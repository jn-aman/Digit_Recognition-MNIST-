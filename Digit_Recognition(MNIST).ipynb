{
  "nbformat": 4,
  "nbformat_minor": 0,
  "metadata": {
    "colab": {
      "name": "Digit Recognition(MNIST).ipynb",
      "version": "0.3.2",
      "provenance": []
    },
    "kernelspec": {
      "name": "python3",
      "display_name": "Python 3"
    }
  },
  "cells": [
    {
      "metadata": {
        "id": "3RDFqLjX6BWG",
        "colab_type": "code",
        "colab": {}
      },
      "cell_type": "code",
      "source": [
        "import tensorflow as tf"
      ],
      "execution_count": 0,
      "outputs": []
    },
    {
      "metadata": {
        "id": "g-n3sVtt6KNP",
        "colab_type": "code",
        "colab": {}
      },
      "cell_type": "code",
      "source": [
        "from tensorflow.examples.tutorials.mnist import input_data"
      ],
      "execution_count": 0,
      "outputs": []
    },
    {
      "metadata": {
        "id": "PTigJz7H6McN",
        "colab_type": "code",
        "outputId": "810fde70-98ff-4c01-dfad-27c0bb61b638",
        "colab": {
          "base_uri": "https://localhost:8080/",
          "height": 530
        }
      },
      "cell_type": "code",
      "source": [
        "mnist = input_data.read_data_sets('MNIST_data/',one_hot = True)"
      ],
      "execution_count": 0,
      "outputs": [
        {
          "output_type": "stream",
          "text": [
            "WARNING:tensorflow:From <ipython-input-3-274ce6dbe080>:1: read_data_sets (from tensorflow.contrib.learn.python.learn.datasets.mnist) is deprecated and will be removed in a future version.\n",
            "Instructions for updating:\n",
            "Please use alternatives such as official/mnist/dataset.py from tensorflow/models.\n",
            "WARNING:tensorflow:From /usr/local/lib/python3.6/dist-packages/tensorflow/contrib/learn/python/learn/datasets/mnist.py:260: maybe_download (from tensorflow.contrib.learn.python.learn.datasets.base) is deprecated and will be removed in a future version.\n",
            "Instructions for updating:\n",
            "Please write your own downloading logic.\n",
            "WARNING:tensorflow:From /usr/local/lib/python3.6/dist-packages/tensorflow/contrib/learn/python/learn/datasets/base.py:252: _internal_retry.<locals>.wrap.<locals>.wrapped_fn (from tensorflow.contrib.learn.python.learn.datasets.base) is deprecated and will be removed in a future version.\n",
            "Instructions for updating:\n",
            "Please use urllib or similar directly.\n",
            "Successfully downloaded train-images-idx3-ubyte.gz 9912422 bytes.\n",
            "WARNING:tensorflow:From /usr/local/lib/python3.6/dist-packages/tensorflow/contrib/learn/python/learn/datasets/mnist.py:262: extract_images (from tensorflow.contrib.learn.python.learn.datasets.mnist) is deprecated and will be removed in a future version.\n",
            "Instructions for updating:\n",
            "Please use tf.data to implement this functionality.\n",
            "Extracting MNIST_data/train-images-idx3-ubyte.gz\n",
            "Successfully downloaded train-labels-idx1-ubyte.gz 28881 bytes.\n",
            "WARNING:tensorflow:From /usr/local/lib/python3.6/dist-packages/tensorflow/contrib/learn/python/learn/datasets/mnist.py:267: extract_labels (from tensorflow.contrib.learn.python.learn.datasets.mnist) is deprecated and will be removed in a future version.\n",
            "Instructions for updating:\n",
            "Please use tf.data to implement this functionality.\n",
            "Extracting MNIST_data/train-labels-idx1-ubyte.gz\n",
            "WARNING:tensorflow:From /usr/local/lib/python3.6/dist-packages/tensorflow/contrib/learn/python/learn/datasets/mnist.py:110: dense_to_one_hot (from tensorflow.contrib.learn.python.learn.datasets.mnist) is deprecated and will be removed in a future version.\n",
            "Instructions for updating:\n",
            "Please use tf.one_hot on tensors.\n",
            "Successfully downloaded t10k-images-idx3-ubyte.gz 1648877 bytes.\n",
            "Extracting MNIST_data/t10k-images-idx3-ubyte.gz\n",
            "Successfully downloaded t10k-labels-idx1-ubyte.gz 4542 bytes.\n",
            "Extracting MNIST_data/t10k-labels-idx1-ubyte.gz\n",
            "WARNING:tensorflow:From /usr/local/lib/python3.6/dist-packages/tensorflow/contrib/learn/python/learn/datasets/mnist.py:290: DataSet.__init__ (from tensorflow.contrib.learn.python.learn.datasets.mnist) is deprecated and will be removed in a future version.\n",
            "Instructions for updating:\n",
            "Please use alternatives such as official/mnist/dataset.py from tensorflow/models.\n"
          ],
          "name": "stdout"
        }
      ]
    },
    {
      "metadata": {
        "id": "iE7SbILc6Ou5",
        "colab_type": "code",
        "outputId": "fbcdb934-73df-49ac-e729-91e182f4a86e",
        "colab": {
          "base_uri": "https://localhost:8080/",
          "height": 34
        }
      },
      "cell_type": "code",
      "source": [
        "mnist.train.images.shape,mnist.train.labels.shape"
      ],
      "execution_count": 0,
      "outputs": [
        {
          "output_type": "execute_result",
          "data": {
            "text/plain": [
              "((55000, 784), (55000, 10))"
            ]
          },
          "metadata": {
            "tags": []
          },
          "execution_count": 4
        }
      ]
    },
    {
      "metadata": {
        "id": "XFYgHXez6SzZ",
        "colab_type": "code",
        "outputId": "d1e82c75-169b-4d8b-a777-ba9853d5a0d6",
        "colab": {
          "base_uri": "https://localhost:8080/",
          "height": 347
        }
      },
      "cell_type": "code",
      "source": [
        "import numpy as np\n",
        "from matplotlib import pyplot as plt\n",
        "first_image = mnist.train.images[0]\n",
        "first_image = np.array(first_image,dtype = 'float')\n",
        "first_image = first_image.reshape((28,28))\n",
        "plt.imshow(first_image)\n",
        "plt.show()"
      ],
      "execution_count": 0,
      "outputs": [
        {
          "output_type": "display_data",
          "data": {
            "image/png": "[encoded data removed]",
            "text/plain": [
              "<Figure size 576x396 with 1 Axes>"
            ]
          },
          "metadata": {
            "tags": []
          }
        }
      ]
    },
    {
      "metadata": {
        "id": "nXQvFGIt6WOK",
        "colab_type": "code",
        "outputId": "db143f47-e236-4d6f-bff9-79a9fcf07128",
        "colab": {
          "base_uri": "https://localhost:8080/",
          "height": 88
        }
      },
      "cell_type": "code",
      "source": [
        "n_input = 784\n",
        "n_hidden_1 = 256\n",
        "n_hidden_2 = 256\n",
        "n_classes = 10\n",
        "\n",
        "weights = {\n",
        "    'h1':tf.Variable(tf.random_normal([n_input,n_hidden_1])),\n",
        "    'h2':tf.Variable(tf.random_normal([n_hidden_1,n_hidden_2])),\n",
        "    'out':tf.Variable(tf.random_normal([n_hidden_2,n_classes]))\n",
        "}\n",
        "\n",
        "bias = {\n",
        "    'h1':tf.Variable(tf.random_normal([n_hidden_1])),\n",
        "    'h2':tf.Variable(tf.random_normal([n_hidden_2])),\n",
        "    'out':tf.Variable(tf.random_normal([n_classes]))\n",
        "}"
      ],
      "execution_count": 0,
      "outputs": [
        {
          "output_type": "stream",
          "text": [
            "WARNING:tensorflow:From /usr/local/lib/python3.6/dist-packages/tensorflow/python/framework/op_def_library.py:263: colocate_with (from tensorflow.python.framework.ops) is deprecated and will be removed in a future version.\n",
            "Instructions for updating:\n",
            "Colocations handled automatically by placer.\n"
          ],
          "name": "stdout"
        }
      ]
    },
    {
      "metadata": {
        "id": "mFcdS4xN6ZlM",
        "colab_type": "code",
        "colab": {}
      },
      "cell_type": "code",
      "source": [
        "def forward_propogation(x,weights,bias):\n",
        "    in_layer_1 = tf.add(tf.matmul(x,weights['h1']),bias['h1'])\n",
        "    out_layer_1 = tf.nn.relu(in_layer_1)#activation function\n",
        "    \n",
        "    in_layer_2 = tf.add(tf.matmul(out_layer_1,weights['h2']),bias['h2'])\n",
        "    out_layer_2 = tf.nn.relu(in_layer_2)\n",
        "    \n",
        "    output = tf.add(tf.matmul(out_layer_2,weights['out']),bias['out'])\n",
        "    return output"
      ],
      "execution_count": 0,
      "outputs": []
    },
    {
      "metadata": {
        "id": "EhZKFpq76cXJ",
        "colab_type": "code",
        "colab": {}
      },
      "cell_type": "code",
      "source": [
        "x = tf.placeholder('float',[None,784])\n",
        "y = tf.placeholder(tf.int32,[None,10])\n",
        "pred = forward_propogation(x,weights,bias)"
      ],
      "execution_count": 0,
      "outputs": []
    },
    {
      "metadata": {
        "id": "I9qUd7kb6fzm",
        "colab_type": "code",
        "outputId": "778de36c-4ad5-4ebe-860a-0e32a35f2698",
        "colab": {
          "base_uri": "https://localhost:8080/",
          "height": 173
        }
      },
      "cell_type": "code",
      "source": [
        "#cost function #suppose we haven't created session\n",
        "cost = tf.reduce_mean(tf.nn.softmax_cross_entropy_with_logits(logits = pred,labels = y))"
      ],
      "execution_count": 0,
      "outputs": [
        {
          "output_type": "stream",
          "text": [
            "WARNING:tensorflow:From <ipython-input-9-13d7f98a4963>:1: softmax_cross_entropy_with_logits (from tensorflow.python.ops.nn_ops) is deprecated and will be removed in a future version.\n",
            "Instructions for updating:\n",
            "\n",
            "Future major versions of TensorFlow will allow gradients to flow\n",
            "into the labels input on backprop by default.\n",
            "\n",
            "See `tf.nn.softmax_cross_entropy_with_logits_v2`.\n",
            "\n"
          ],
          "name": "stdout"
        }
      ]
    },
    {
      "metadata": {
        "id": "T_BXTTuB6iHI",
        "colab_type": "code",
        "colab": {}
      },
      "cell_type": "code",
      "source": [
        "optimizer = tf.train.AdamOptimizer(learning_rate = 0.01)\n",
        "optimize = optimizer.minimize(cost)"
      ],
      "execution_count": 0,
      "outputs": []
    },
    {
      "metadata": {
        "id": "oTbnsPUD6mR9",
        "colab_type": "code",
        "colab": {}
      },
      "cell_type": "code",
      "source": [
        "sess = tf.Session()\n",
        "sess.run(tf.global_variables_initializer())"
      ],
      "execution_count": 0,
      "outputs": []
    },
    {
      "metadata": {
        "id": "mT1wr5pU6ppL",
        "colab_type": "code",
        "outputId": "6bfa5bff-c84d-4a23-b140-c13c8e613cb9",
        "colab": {
          "base_uri": "https://localhost:8080/",
          "height": 34
        }
      },
      "cell_type": "code",
      "source": [
        "c,_ = sess.run([cost,optimize],feed_dict = {x:mnist.train.images,y:mnist.train.labels})\n",
        "c\n",
        "#cost is reducing with each iteration"
      ],
      "execution_count": 0,
      "outputs": [
        {
          "output_type": "execute_result",
          "data": {
            "text/plain": [
              "2581.8542"
            ]
          },
          "metadata": {
            "tags": []
          },
          "execution_count": 12
        }
      ]
    },
    {
      "metadata": {
        "id": "LQge6I2_6wGs",
        "colab_type": "code",
        "outputId": "8e5d749c-6160-4b75-c8ac-1ce21fe53d44",
        "colab": {
          "base_uri": "https://localhost:8080/",
          "height": 442
        }
      },
      "cell_type": "code",
      "source": [
        "for i in range(25):\n",
        "    c,_ = sess.run([cost,optimize],feed_dict = {x:mnist.train.images,y:mnist.train.labels})\n",
        "    print(c)"
      ],
      "execution_count": 0,
      "outputs": [
        {
          "output_type": "stream",
          "text": [
            "1322.7948\n",
            "806.8841\n",
            "632.9657\n",
            "591.59845\n",
            "563.0074\n",
            "522.66754\n",
            "465.46234\n",
            "400.12427\n",
            "336.89035\n",
            "283.04996\n",
            "241.86183\n",
            "211.71263\n",
            "186.92252\n",
            "163.16513\n",
            "141.35031\n",
            "124.89745\n",
            "115.51593\n",
            "111.95515\n",
            "111.117676\n",
            "109.35586\n",
            "104.7851\n",
            "97.95858\n",
            "90.610825\n",
            "84.19182\n",
            "78.7869\n"
          ],
          "name": "stdout"
        }
      ]
    },
    {
      "metadata": {
        "id": "QWe0bi7S6ytz",
        "colab_type": "code",
        "outputId": "908f7fe7-43f2-46de-9627-d0480566597c",
        "colab": {
          "base_uri": "https://localhost:8080/",
          "height": 34
        }
      },
      "cell_type": "code",
      "source": [
        "pred_labels = tf.argmax(pred,1) #return the index with max_value\n",
        "true_labels = tf.argmax(y,1)\n",
        "correct_labels = tf.equal(pred_labels,true_labels)\n",
        "pred_eval,correct_pred = sess.run([pred_labels,correct_labels],feed_dict = {x:mnist.test.images,y:mnist.test.labels})\n",
        "correct_pred.sum()"
      ],
      "execution_count": 0,
      "outputs": [
        {
          "output_type": "execute_result",
          "data": {
            "text/plain": [
              "8343"
            ]
          },
          "metadata": {
            "tags": []
          },
          "execution_count": 14
        }
      ]
    },
    {
      "metadata": {
        "id": "fEI-p63a63G-",
        "colab_type": "code",
        "outputId": "cf25caa2-1342-4383-b51c-2dbc1e989f58",
        "colab": {
          "base_uri": "https://localhost:8080/",
          "height": 442
        }
      },
      "cell_type": "code",
      "source": [
        "batch_size = 100\n",
        "for i in range(25):\n",
        "    num_batches = int(mnist.train.num_examples/batch_size)\n",
        "    total_cost = 0\n",
        "    for j in range(num_batches):\n",
        "        batch_x,batch_y = mnist.train.next_batch(batch_size)\n",
        "        c,_ = sess.run([cost,optimize],feed_dict = {x:batch_x,y:batch_y})\n",
        "        total_cost += c\n",
        "    print(total_cost) \n",
        "    "
      ],
      "execution_count": 0,
      "outputs": [
        {
          "output_type": "stream",
          "text": [
            "13838.132528424263\n",
            "4134.722535265944\n",
            "2368.6972770581187\n",
            "1772.1335264113711\n",
            "1261.1282616008352\n",
            "1149.2947897966371\n",
            "1021.0186636103081\n",
            "949.942695017608\n",
            "865.7913999311985\n",
            "781.4523414243564\n",
            "594.4921813148843\n",
            "573.7048436039186\n",
            "659.0300789705118\n",
            "557.9498871641749\n",
            "409.316132669133\n",
            "372.75097331332256\n",
            "375.0284583228605\n",
            "352.2826589833457\n",
            "278.8566598632969\n",
            "295.99085517297414\n",
            "352.37440325465536\n",
            "250.07948738196205\n",
            "215.88280845922685\n",
            "248.8021585484969\n",
            "231.42146417122223\n"
          ],
          "name": "stdout"
        }
      ]
    },
    {
      "metadata": {
        "id": "WJc8XjDj7CFw",
        "colab_type": "code",
        "outputId": "742acc7d-e7de-498c-c822-b2ea4ebef1fd",
        "colab": {
          "base_uri": "https://localhost:8080/",
          "height": 34
        }
      },
      "cell_type": "code",
      "source": [
        "pred_labels = tf.argmax(pred,1) #return the index with max_value\n",
        "true_labels = tf.argmax(y,1)\n",
        "correct_labels = tf.equal(pred_labels,true_labels)\n",
        "pred_eval,correct_pred = sess.run([pred_labels,correct_labels],feed_dict = {x:mnist.test.images,y:mnist.test.labels})\n",
        "correct_pred.sum()"
      ],
      "execution_count": 0,
      "outputs": [
        {
          "output_type": "execute_result",
          "data": {
            "text/plain": [
              "9579"
            ]
          },
          "metadata": {
            "tags": []
          },
          "execution_count": 16
        }
      ]
    }
  ]
}